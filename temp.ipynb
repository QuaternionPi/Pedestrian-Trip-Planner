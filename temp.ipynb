{
 "cells": [
  {
   "cell_type": "code",
   "execution_count": 28,
   "metadata": {},
   "outputs": [
    {
     "name": "stdout",
     "output_type": "stream",
     "text": [
      "MultiDiGraph with 3661 nodes and 8763 edges\n"
     ]
    }
   ],
   "source": [
    "import networkx as nx\n",
    "import osmnx as ox\n",
    "from shapely.geometry import LineString\n",
    "import geopandas as gpd\n",
    "from ipyleaflet import *\n",
    "\n",
    "# from https://medium.com/analytics-vidhya/interative-map-with-osm-directions-and-networkx-582c4f3435bc\n",
    "\n",
    "place_name = \"Kamppi, Helsinki, Finland\"\n",
    "graph = ox.graph_from_place(place_name)\n",
    "\n",
    "nodes, edges = ox.graph_to_gdfs(graph)\n",
    "\n",
    "center = (60.16607, 24.93116)\n",
    "m = Map(center=center, basemap=basemaps.CartoDB.Positron, zoom=15)\n",
    "\n",
    "# style for the destination marker\n",
    "to_marker_style = AwesomeIcon(\n",
    "    name=\"circle\", icon_color=\"white\", marker_color=\"red\", spin=False\n",
    ")\n",
    "from_marker = Marker(location=center)\n",
    "to_marker = Marker(location=center, icon=to_marker_style)\n",
    "\n",
    "\n",
    "path_layer_list = []\n",
    "\n",
    "\n",
    "def handle_change_location(event, marker):\n",
    "    event_owner = event[\"owner\"]\n",
    "    event_owner.nearest_node = ox.distance.nearest_nodes(graph, event_owner.location[1], event_owner.location[0])\n",
    "    marker.nearest_node = ox.distance.nearest_nodes(graph, marker.location[1], marker.location[0])\n",
    "\n",
    "    try:\n",
    "        shortest_path = nx.dijkstra_path(\n",
    "            graph, event_owner.nearest_node, marker.nearest_node, weight=\"length\"\n",
    "        )\n",
    "    except:\n",
    "        return\n",
    "\n",
    "    if(len(shortest_path) == 1):\n",
    "        return\n",
    "    \n",
    "    if len(path_layer_list) == 1:\n",
    "        m.remove_layer(path_layer_list[0])\n",
    "        path_layer_list.pop()\n",
    "\n",
    "    shortest_path_points = nodes.loc[shortest_path]\n",
    "    path = gpd.GeoDataFrame(\n",
    "        [LineString(shortest_path_points.geometry.values)], columns=[\"geometry\"]\n",
    "    )\n",
    "    path_layer = GeoData(geo_dataframe=path, style={\"color\": \"black\", \"weight\": 2})\n",
    "    m.add_layer(path_layer)\n",
    "    path_layer_list.append(path_layer)\n",
    "\n",
    "from_marker.observe(lambda event: handle_change_location(event, to_marker), 'location')\n",
    "to_marker.observe(lambda event: handle_change_location(event, from_marker), 'location')"
   ]
  },
  {
   "cell_type": "code",
   "execution_count": null,
   "metadata": {},
   "outputs": [],
   "source": [
    "def set_nearest_node(marker):\n",
    "    marker.nearest_node = ox.distance.nearest_nodes(graph, marker.location[0], marker.location[1])"
   ]
  },
  {
   "cell_type": "code",
   "execution_count": null,
   "metadata": {},
   "outputs": [],
   "source": [
    "m.add_layer(from_marker)\n",
    "m.add_layer(to_marker)\n",
    "set_nearest_node(from_marker)\n",
    "set_nearest_node(to_marker)\n",
    "display(m)"
   ]
  }
 ],
 "metadata": {
  "kernelspec": {
   "display_name": "Python 3",
   "language": "python",
   "name": "python3"
  },
  "language_info": {
   "codemirror_mode": {
    "name": "ipython",
    "version": 3
   },
   "file_extension": ".py",
   "mimetype": "text/x-python",
   "name": "python",
   "nbconvert_exporter": "python",
   "pygments_lexer": "ipython3",
   "version": "3.10.11"
  }
 },
 "nbformat": 4,
 "nbformat_minor": 2
}
